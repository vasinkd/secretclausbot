{
 "cells": [
  {
   "cell_type": "markdown",
   "metadata": {
    "collapsed": true
   },
   "source": [
    "# Secret Santa Bot"
   ]
  },
  {
   "cell_type": "code",
   "execution_count": 1,
   "metadata": {
    "collapsed": true
   },
   "outputs": [],
   "source": [
    "from telegram.ext import Updater\n",
    "from telegram.ext import CommandHandler\n",
    "import pandas as pd\n",
    "import numpy as np\n",
    "import random as rd\n",
    "\n",
    "updater = Updater(token=) #here your bot token should be mentioned\n",
    "dispatcher = updater.dispatcher"
   ]
  },
  {
   "cell_type": "code",
   "execution_count": 2,
   "metadata": {
    "collapsed": false
   },
   "outputs": [
    {
     "data": {
      "text/plain": [
       "<queue.Queue at 0x302d4a1208>"
      ]
     },
     "execution_count": 2,
     "metadata": {},
     "output_type": "execute_result"
    }
   ],
   "source": [
    "updater.start_polling() #starting polling requests. Not the best way to work with bots, better use webhook\n",
    "# you can read about webhook here: https://core.telegram.org/bots/webhooks"
   ]
  },
  {
   "cell_type": "code",
   "execution_count": 2,
   "metadata": {
    "collapsed": false
   },
   "outputs": [],
   "source": [
    "# # USE THIS CODE IF YOU STARTING YOUR BOT FOR THE FIRST TIME OR IN CASE YOU WISH TO CLEAR YOUR DATABASE\n",
    "\n",
    "# # Reset database\n",
    "# df = pd.DataFrame(data = [], columns = ['chatid', 'chatname', 'userid', 'username', 'linkid', 'magic'])\n",
    "# df.to_csv(\"database.csv\", index=False)"
   ]
  },
  {
   "cell_type": "markdown",
   "metadata": {},
   "source": [
    "## /help"
   ]
  },
  {
   "cell_type": "code",
   "execution_count": 3,
   "metadata": {
    "collapsed": true
   },
   "outputs": [],
   "source": [
    "def santahelp(bot, update):\n",
    "    bot.sendMessage(chat_id=update.message.chat_id, text=\"Use this bot to play Secret Santa game!\\n\\nAdd this bot to the group chat to link Santas to donees!\\nAdd this bot to your personal chat to find out who is your donee!\\n\\nList of commands for group chat:\\n/member - join the game\\n/santas - see the list of Santas\\n/magic - get a donee\\n/reset - start the game again\\n\\nList of commands for personal chat:\\n/mydonee - get the name of donee\")\n",
    "    \n",
    "santahelp_handler = CommandHandler('help', santahelp)\n",
    "dispatcher.add_handler(santahelp_handler)"
   ]
  },
  {
   "cell_type": "markdown",
   "metadata": {},
   "source": [
    "## /start"
   ]
  },
  {
   "cell_type": "code",
   "execution_count": 4,
   "metadata": {
    "collapsed": false
   },
   "outputs": [],
   "source": [
    "def start(bot, update):\n",
    "    bot.sendMessage(chat_id=update.message.chat_id, text=\"Use /help to find out what is going on!\\n\\nPlease, contact @vasin_kd if Secret Santa Bot doesnt't work properly\")\n",
    "    \n",
    "start_handler = CommandHandler('start', start)\n",
    "dispatcher.add_handler(start_handler)"
   ]
  },
  {
   "cell_type": "markdown",
   "metadata": {},
   "source": [
    "## /member"
   ]
  },
  {
   "cell_type": "code",
   "execution_count": 6,
   "metadata": {
    "collapsed": false
   },
   "outputs": [],
   "source": [
    "def member(bot, update):\n",
    "    chatid = update.message.chat_id\n",
    "    userid = update.message.from_user.id\n",
    "    chatname = update.message.chat.title\n",
    "    if update.message.chat.type != \"group\":\n",
    "        bot.sendMessage(chat_id=chatid, text=\"This command is not avaliable in personal chat.\")\n",
    "    else:\n",
    "        df = pd.read_csv(\"database.csv\", encoding='cp1251')\n",
    "        mask = df.chatid == chatid\n",
    "        chatdf = df[mask]\n",
    "        if sum(chatdf[\"magic\"]) != 0:\n",
    "            bot.sendMessage(chat_id=chatid, text=\"Magic has already been here.\\n\\nIf you want to start again use /reset\\nIf you don't know your donee talk to me @SecretClausBot\")\n",
    "        elif userid in chatdf[\"userid\"].values:        \n",
    "            bot.sendMessage(chat_id=chatid, text=\"This Santa has already registered!\")\n",
    "        else:\n",
    "            if update.message.from_user.username:\n",
    "                username = \"@\" + update.message.from_user.username\n",
    "            else:\n",
    "                username = update.message.from_user.first_name + \" \" + update.message.from_user.last_name\n",
    "            number = len(chatdf[\"userid\"].values)\n",
    "            if number == 0:\n",
    "                bot.sendMessage(chat_id=update.message.chat_id, text=\"The first Secret Santa is here!\")\n",
    "            else:\n",
    "                bot.sendMessage(chat_id=update.message.chat_id, text=\"One more player with us!\\nWow, now there are \"+str(number+1)+\" Secret Santas!\\nIf all Santas are here press /magic\")\n",
    "            newone = pd.DataFrame(data = [[chatid, chatname, userid, username, False]], columns = ['chatid', 'chatname', 'userid', 'username', 'magic'])\n",
    "            result = pd.concat([df, newone], ignore_index=True)\n",
    "            result.to_csv(\"database.csv\", index=False)\n",
    "\n",
    "member_handler = CommandHandler('member', member)\n",
    "dispatcher.add_handler(member_handler, group=1)"
   ]
  },
  {
   "cell_type": "markdown",
   "metadata": {},
   "source": [
    "## /magic"
   ]
  },
  {
   "cell_type": "code",
   "execution_count": 7,
   "metadata": {
    "collapsed": false
   },
   "outputs": [],
   "source": [
    "def magic(bot, update):\n",
    "    chatid = update.message.chat_id\n",
    "    if update.message.chat.type != \"group\":\n",
    "        bot.sendMessage(chat_id=chatid, text=\"This command is not avaliable in personal chat.\")\n",
    "    else:\n",
    "        df = pd.read_csv(\"database.csv\", encoding='cp1251')\n",
    "        mask = df.chatid == chatid\n",
    "        chatdf = df[mask]\n",
    "        if len(chatdf[\"userid\"]) <2:\n",
    "            bot.sendMessage(chat_id=chatid, text=str(len(chatdf[\"userid\"]))+\" is not enough for doing magic!\")\n",
    "        elif sum(chatdf[\"magic\"]) == 0:\n",
    "            chatdf['linkid'] = chatdf[\"userid\"]\n",
    "            dif = [1]\n",
    "            while sum(dif) != 0:\n",
    "                rd.shuffle(chatdf[\"linkid\"].values)\n",
    "                dif = (chatdf[\"userid\"] - chatdf['linkid']) == 0\n",
    "            bot.sendMessage(chat_id=chatid, text=\"All Santas now may talk to me @SecretClausBot to get their donee name\")\n",
    "            df.ix[list(chatdf.index.values), \"magic\"] = True\n",
    "            df.ix[list(chatdf.index.values), \"linkid\"] = chatdf.ix[list(chatdf.index.values), \"linkid\"]\n",
    "            df.to_csv(\"database.csv\", index=False)\n",
    "        else:\n",
    "            bot.sendMessage(chat_id=chatid, text=\"Magic has already been here.\\n\\nIf you want to start again use /reset\\nIf you don't know your donee talk to me @SecretClausBot\")\n",
    "\n",
    "magic_handler = CommandHandler('magic', magic)\n",
    "dispatcher.add_handler(magic_handler)"
   ]
  },
  {
   "cell_type": "markdown",
   "metadata": {},
   "source": [
    "## /reset"
   ]
  },
  {
   "cell_type": "code",
   "execution_count": 8,
   "metadata": {
    "collapsed": false
   },
   "outputs": [],
   "source": [
    "def reset(bot, update):\n",
    "    chatid = update.message.chat_id\n",
    "    if update.message.chat.type != \"group\":\n",
    "        bot.sendMessage(chat_id=chatid, text=\"This command is not avaliable in personal chat.\")\n",
    "    else:\n",
    "        df = pd.read_csv(\"database.csv\", encoding='cp1251') \n",
    "        mask = df['chatid'] != chatid\n",
    "        df = df[mask]\n",
    "        df.to_csv(\"database.csv\", index=False)\n",
    "        bot.sendMessage(chat_id=chatid, text=\"Now you may start new Secret Santa game\")\n",
    "\n",
    "reset_handler = CommandHandler('reset', reset)\n",
    "dispatcher.add_handler(reset_handler)"
   ]
  },
  {
   "cell_type": "markdown",
   "metadata": {},
   "source": [
    "## /mydonee"
   ]
  },
  {
   "cell_type": "code",
   "execution_count": 9,
   "metadata": {
    "collapsed": false
   },
   "outputs": [],
   "source": [
    "def mydonee(bot, update):\n",
    "    userid = update.message.from_user.id\n",
    "    if update.message.chat.type == \"group\":\n",
    "        bot.sendMessage(chat_id=chatid, text=\"This command is not avaliable in group chat.\")\n",
    "    else:\n",
    "        df = pd.read_csv(\"database.csv\", encoding='cp1251')\n",
    "        mask = df.linkid == userid\n",
    "        chatdf = df[mask]\n",
    "        if sum(chatdf[\"magic\"]) == 0:\n",
    "            bot.sendMessage(chat_id=userid, text=\"You haven't taken any donees.\\n\\nStart /magic in a group chat to get a donee\")\n",
    "        else:\n",
    "            for i in chatdf.index.values:\n",
    "                bot.sendMessage(chat_id=userid, text=\"You are the Secret Santa for \"+chatdf.ix[i, \"username\"]+\" from \"+chatdf.ix[i, \"chatname\"])\n",
    "            bot.sendMessage(chat_id=userid, text=\"Thank you for using Secret Santa Bot!\\nPlease, rate and leave your suggestions [here](https://telegram.me/storebot?start=secretclausbot)!\", parse_mode=\"Markdown\", disable_web_page_preview=True)\n",
    "\n",
    "            \n",
    "mydonee_handler = CommandHandler('mydonee', mydonee)\n",
    "dispatcher.add_handler(mydonee_handler, group=2)"
   ]
  },
  {
   "cell_type": "markdown",
   "metadata": {},
   "source": [
    "## /santas"
   ]
  },
  {
   "cell_type": "code",
   "execution_count": 10,
   "metadata": {
    "collapsed": false
   },
   "outputs": [],
   "source": [
    "def santas(bot, update):\n",
    "    chatid = update.message.chat_id\n",
    "    if update.message.chat.type != \"group\":\n",
    "        bot.sendMessage(chat_id=chatid, text=\"This command is not avaliable in personal chat.\")\n",
    "    else:\n",
    "        df = pd.read_csv(\"database.csv\", encoding='cp1251')\n",
    "        mask = df.chatid == chatid\n",
    "        chatdf = df[mask]\n",
    "        chatdf.index = np.arange(1, len(chatdf) + 1)\n",
    "        if chatdf[\"userid\"].empty:\n",
    "            bot.sendMessage(chat_id=chatid, text=\"No Secret Santas in this chat\")\n",
    "        else:\n",
    "            bot.sendMessage(chat_id=chatid, text=str(chatdf.ix[:, \"username\"])[:-30])\n",
    "            \n",
    "santas_handler = CommandHandler('santas', santas)\n",
    "dispatcher.add_handler(santas_handler, group=2)"
   ]
  }
 ],
 "metadata": {
  "anaconda-cloud": {},
  "kernelspec": {
   "display_name": "Python [Root]",
   "language": "python",
   "name": "Python [Root]"
  },
  "language_info": {
   "codemirror_mode": {
    "name": "ipython",
    "version": 3
   },
   "file_extension": ".py",
   "mimetype": "text/x-python",
   "name": "python",
   "nbconvert_exporter": "python",
   "pygments_lexer": "ipython3",
   "version": "3.5.2"
  }
 },
 "nbformat": 4,
 "nbformat_minor": 0
}
